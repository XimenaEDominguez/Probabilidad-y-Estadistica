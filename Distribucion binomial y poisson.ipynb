{
  "nbformat": 4,
  "nbformat_minor": 0,
  "metadata": {
    "colab": {
      "provenance": [],
      "authorship_tag": "ABX9TyOC/Z/4wqTz77vDyaYd4KVn",
      "include_colab_link": true
    },
    "kernelspec": {
      "name": "python3",
      "display_name": "Python 3"
    },
    "language_info": {
      "name": "python"
    }
  },
  "cells": [
    {
      "cell_type": "markdown",
      "metadata": {
        "id": "view-in-github",
        "colab_type": "text"
      },
      "source": [
        "<a href=\"https://colab.research.google.com/github/XimenaEDominguez/Probabilidad-y-Estadistica/blob/main/Distribucion%20binomial%20y%20poisson.ipynb\" target=\"_parent\"><img src=\"https://colab.research.google.com/assets/colab-badge.svg\" alt=\"Open In Colab\"/></a>"
      ]
    },
    {
      "cell_type": "markdown",
      "source": [
        "\n",
        "##Ximena Elizabeth Dominguez Morales\n",
        "#Problema 1\n",
        "###El problema tiene como solución la Distribución Poisson ya que los valores que se nos dan entran en los parámetros requeridos para la Distribución Poisson\n"
      ],
      "metadata": {
        "id": "aNDleTFUS6KJ"
      }
    },
    {
      "cell_type": "code",
      "source": [
        "from scipy.stats import poisson"
      ],
      "metadata": {
        "id": "7uGLPobXUIML"
      },
      "execution_count": 1,
      "outputs": []
    },
    {
      "cell_type": "code",
      "execution_count": 2,
      "metadata": {
        "id": "OtQ0h6NgSzlj"
      },
      "outputs": [],
      "source": [
        "media_personas_ingresadas = 5\n",
        "probabilidad_2_personas_ingresadas = poisson.pmf(2, media_personas_ingresadas)\n",
        ""
      ]
    },
    {
      "cell_type": "code",
      "source": [
        "print(\"La probabilidad de que haya solo 2 personas ingresadas a la UCI en un día es: \", probabilidad_2_personas_ingresadas)"
      ],
      "metadata": {
        "colab": {
          "base_uri": "https://localhost:8080/"
        },
        "id": "D6efOAIAT_Wl",
        "outputId": "21390481-65fd-4d1e-893c-5d38b693901f"
      },
      "execution_count": 3,
      "outputs": [
        {
          "output_type": "stream",
          "name": "stdout",
          "text": [
            "La probabilidad de que haya solo 2 personas ingresadas a la UCI en un día es:  0.08422433748856832\n"
          ]
        }
      ]
    },
    {
      "cell_type": "code",
      "source": [
        "#¿Es probable que exceda de 10 personas?\n",
        "probabilidad_10_personas = poisson.pmf(10, media_personas_ingresadas)\n",
        "print(\"La probabilidad de que las personas ingresadas excedan de 10 es: \", probabilidad_10_personas)"
      ],
      "metadata": {
        "colab": {
          "base_uri": "https://localhost:8080/"
        },
        "id": "eiouLevCUr-q",
        "outputId": "823d2ddc-e33b-4c0e-ec23-aaa3cea2a24f"
      },
      "execution_count": 4,
      "outputs": [
        {
          "output_type": "stream",
          "name": "stdout",
          "text": [
            "La probabilidad de que las personas ingresadas excedan de 10 es:  0.018132788707821854\n"
          ]
        }
      ]
    },
    {
      "cell_type": "markdown",
      "source": [
        "#Problema 2\n",
        "###El problema planteado tiene como solución la distribución binomial porque los valores otorgados entran en los valores que se necesitan en la distribución binomial\n",
        "##Probabilidad de 0 motores defectuosos"
      ],
      "metadata": {
        "id": "B0KyXXi9U9Rk"
      }
    },
    {
      "cell_type": "code",
      "source": [
        "from scipy.stats import binom"
      ],
      "metadata": {
        "id": "FM8rkVxUUr8D"
      },
      "execution_count": 5,
      "outputs": []
    },
    {
      "cell_type": "code",
      "source": [
        "probabilidad_defectuoso = 0.001\n",
        "motores_comprados = 1000\n",
        "X = 0 #Numero de motores defectuosos\n",
        "probabilidad_0_motores_defectuosos = binom.pmf(X, motores_comprados, probabilidad_defectuoso)\n",
        "print(\"La probabilidad de que no haya ningun motor defectuoso es de: \",probabilidad_0_motores_defectuosos)"
      ],
      "metadata": {
        "colab": {
          "base_uri": "https://localhost:8080/"
        },
        "id": "nJvjjEYuUr5P",
        "outputId": "d55b33e6-9dcf-441d-8397-2368455b0297"
      },
      "execution_count": 6,
      "outputs": [
        {
          "output_type": "stream",
          "name": "stdout",
          "text": [
            "La probabilidad de que no haya ningun motor defectuoso es de:  0.3676954247709639\n"
          ]
        }
      ]
    },
    {
      "cell_type": "markdown",
      "source": [
        "##Probabilidad de 3 motores defectuosos"
      ],
      "metadata": {
        "id": "5XsS2eXWVwLM"
      }
    },
    {
      "cell_type": "code",
      "source": [
        "probabilidad_defectuoso = 0.001\n",
        "motores_comprados = 1000\n",
        "X = 3 #Numero de motores defectuosos\n",
        "probabilidad_3_motores_defectuosos = binom.pmf(X, motores_comprados, probabilidad_defectuoso)\n",
        "print(\"La probabilidad de que hayan 3 motores defectuosos es de: \",probabilidad_3_motores_defectuosos)\n",
        ""
      ],
      "metadata": {
        "colab": {
          "base_uri": "https://localhost:8080/"
        },
        "id": "nS6i8fUKUr2o",
        "outputId": "7e338e13-aeca-4911-d5e4-3ff3c10a4231"
      },
      "execution_count": 7,
      "outputs": [
        {
          "output_type": "stream",
          "name": "stdout",
          "text": [
            "La probabilidad de que hayan 3 motores defectuosos es de:  0.061282509389840666\n"
          ]
        }
      ]
    },
    {
      "cell_type": "markdown",
      "source": [
        "##Probabilidad de 4 motores defectuosos"
      ],
      "metadata": {
        "id": "SWuVoGTwWJSG"
      }
    },
    {
      "cell_type": "code",
      "source": [
        "probabilidad_defectuoso = 0.001\n",
        "motores_comprados = 1000\n",
        "X = 4 #Numero de motores defectuosos\n",
        "probabilidad_4_motores_defectuosos = binom.pmf(X, motores_comprados, probabilidad_defectuoso)\n",
        "print(\"La probabilidad de que hayan 4 motores defectuosos es de: \",probabilidad_4_motores_defectuosos)"
      ],
      "metadata": {
        "colab": {
          "base_uri": "https://localhost:8080/"
        },
        "id": "21iiFq2XUrzt",
        "outputId": "dc870671-89a6-471d-d6f9-ee70bff4eb4a"
      },
      "execution_count": 8,
      "outputs": [
        {
          "output_type": "stream",
          "name": "stdout",
          "text": [
            "La probabilidad de que hayan 4 motores defectuosos es de:  0.015289955420838651\n"
          ]
        }
      ]
    }
  ]
}