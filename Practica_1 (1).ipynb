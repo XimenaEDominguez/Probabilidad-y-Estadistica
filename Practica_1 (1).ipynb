{
  "nbformat": 4,
  "nbformat_minor": 0,
  "metadata": {
    "colab": {
      "provenance": []
    },
    "kernelspec": {
      "name": "python3",
      "display_name": "Python 3"
    },
    "language_info": {
      "name": "python"
    }
  },
  "cells": [
    {
      "cell_type": "markdown",
      "source": [
        "## Ejemplo 3: Histogramas de 2 grupos\n",
        "\n",
        "1- En este ejemplo generamos 100 numeros aleatorios reales que representa la produccion diaria de 100 telares(medidas en metros)\n",
        "\n",
        "2- Generar otra lista con la produccion de 100 telares para una segunda fabrica\n",
        "\n",
        "3-Con estas listas de valores se pretende determinar las medidas de tendencia central, es decir, la media, la moda, la mediana, la desviacion estandar.\n",
        "\n",
        "4- Graficar un histograma para cada fabrica\n"
      ],
      "metadata": {
        "id": "uqmRzBnXXu5K"
      }
    },
    {
      "cell_type": "code",
      "source": [
        "from statistics import *"
      ],
      "metadata": {
        "id": "f0VOZWeDol7D"
      },
      "execution_count": 10,
      "outputs": []
    },
    {
      "cell_type": "code",
      "execution_count": 1,
      "metadata": {
        "id": "E60R9ntZMs4H"
      },
      "outputs": [],
      "source": [
        "# Libreria para generar numeros aleatorios\n",
        "import random"
      ]
    },
    {
      "cell_type": "code",
      "source": [
        "fabrica1= []\n",
        "for i in range(100):\n",
        "  numero_aleatorio= round (random.uniform(50,100) ,2)\n",
        "  fabrica1.append(numero_aleatorio)\n",
        "print(fabrica1)"
      ],
      "metadata": {
        "colab": {
          "base_uri": "https://localhost:8080/"
        },
        "id": "CEsOoK9ZVsXG",
        "outputId": "9156af46-5b54-4581-e38f-e097b15a8e4d"
      },
      "execution_count": 2,
      "outputs": [
        {
          "output_type": "stream",
          "name": "stdout",
          "text": [
            "[77.52, 66.83, 69.03, 85.92, 64.34, 77.54, 67.71, 90.13, 69.77, 62.19, 86.08, 92.25, 96.82, 90.46, 91.5, 55.12, 91.18, 51.51, 96.46, 55.36, 70.56, 66.89, 64.0, 74.2, 78.62, 80.92, 76.32, 60.19, 97.29, 69.49, 51.41, 55.19, 65.38, 82.21, 58.95, 98.44, 78.4, 62.2, 65.69, 71.03, 70.29, 86.89, 88.52, 99.52, 89.08, 61.84, 55.91, 56.28, 56.24, 61.93, 91.18, 84.03, 87.33, 89.73, 97.17, 89.52, 66.49, 84.65, 66.35, 83.49, 60.95, 56.87, 50.72, 66.03, 87.22, 83.64, 77.43, 99.36, 87.45, 81.63, 62.13, 78.75, 79.65, 52.48, 83.76, 65.89, 90.86, 86.61, 84.17, 55.01, 95.55, 90.68, 99.06, 97.99, 76.79, 84.98, 94.42, 88.33, 87.67, 87.35, 95.31, 93.26, 54.43, 91.76, 86.37, 62.56, 93.48, 89.61, 83.15, 94.16]\n"
          ]
        }
      ]
    },
    {
      "cell_type": "code",
      "source": [
        "fabrica2= []\n",
        "for i in range(100):\n",
        "  numero_aleatorio2 = round (random.uniform(50,100) ,2)\n",
        "  fabrica2.append(numero_aleatorio2)\n",
        "print(fabrica2)"
      ],
      "metadata": {
        "colab": {
          "base_uri": "https://localhost:8080/"
        },
        "id": "hqFIlOeQk2aW",
        "outputId": "764f7d25-ba5c-4048-ab0f-2cf7c8451c7e"
      },
      "execution_count": 3,
      "outputs": [
        {
          "output_type": "stream",
          "name": "stdout",
          "text": [
            "[85.51, 58.03, 61.3, 90.92, 73.81, 63.95, 72.35, 64.2, 96.32, 88.2, 74.72, 89.2, 59.94, 72.63, 92.38, 83.19, 60.09, 68.89, 78.4, 79.59, 67.76, 57.89, 58.12, 55.04, 84.68, 66.08, 82.89, 64.65, 94.14, 73.32, 92.08, 89.04, 52.74, 59.89, 58.16, 64.62, 84.04, 65.69, 66.48, 53.28, 54.81, 53.71, 84.78, 94.41, 66.05, 68.61, 82.8, 50.88, 52.58, 97.51, 69.48, 71.13, 56.4, 84.08, 81.27, 79.88, 95.05, 63.21, 63.16, 61.62, 99.38, 86.07, 51.03, 75.94, 75.83, 99.95, 66.49, 84.31, 51.35, 78.1, 74.99, 74.22, 82.2, 65.16, 79.99, 95.28, 75.55, 57.36, 97.72, 58.71, 67.84, 71.79, 83.16, 68.52, 68.28, 93.78, 90.72, 65.08, 73.02, 80.71, 70.09, 61.82, 67.49, 86.26, 50.82, 80.59, 61.65, 77.16, 56.82, 69.36]\n"
          ]
        }
      ]
    },
    {
      "cell_type": "code",
      "source": [
        "#Libreria para graficar\n",
        "import matplotlib.pyplot as plt"
      ],
      "metadata": {
        "id": "TrxY25_WlPHl"
      },
      "execution_count": 4,
      "outputs": []
    },
    {
      "cell_type": "code",
      "source": [
        "plt.hist(fabrica1)\n",
        "plt.title(\"Produccion diaria de la fabrica 1\")"
      ],
      "metadata": {
        "colab": {
          "base_uri": "https://localhost:8080/",
          "height": 469
        },
        "id": "C_LADt8dmFSB",
        "outputId": "ba7d8846-3f19-4811-8338-9026fa867253"
      },
      "execution_count": 6,
      "outputs": [
        {
          "output_type": "execute_result",
          "data": {
            "text/plain": [
              "Text(0.5, 1.0, 'Produccion diaria de la fabrica 1')"
            ]
          },
          "metadata": {},
          "execution_count": 6
        },
        {
          "output_type": "display_data",
          "data": {
            "text/plain": [
              "<Figure size 640x480 with 1 Axes>"
            ],
            "image/png": "[encoded data removed]"
          },
          "metadata": {}
        }
      ]
    },
    {
      "cell_type": "code",
      "source": [
        "plt.hist(fabrica2)\n",
        "plt.title(\"Produccion diaria de la fabrica 2\")"
      ],
      "metadata": {
        "colab": {
          "base_uri": "https://localhost:8080/",
          "height": 469
        },
        "id": "VVJZilB9mTmq",
        "outputId": "ff5dfb86-7c7b-45c8-b761-cf60cc28182d"
      },
      "execution_count": 7,
      "outputs": [
        {
          "output_type": "execute_result",
          "data": {
            "text/plain": [
              "Text(0.5, 1.0, 'Produccion diaria de la fabrica 2')"
            ]
          },
          "metadata": {},
          "execution_count": 7
        },
        {
          "output_type": "display_data",
          "data": {
            "text/plain": [
              "<Figure size 640x480 with 1 Axes>"
            ],
            "image/png": "[encoded data removed]"
          },
          "metadata": {}
        }
      ]
    },
    {
      "cell_type": "code",
      "source": [
        "media=mean(fabrica1)\n",
        "mediana = median(fabrica1)\n",
        "moda= mode(fabrica1)\n",
        "\n",
        "print (\"Valores de la fabrica 1\")\n",
        "print(\"La media es:\", media)\n",
        "print(\"La mediana es:\", mediana)\n",
        "print(\"La moda es:\", moda)"
      ],
      "metadata": {
        "colab": {
          "base_uri": "https://localhost:8080/"
        },
        "id": "TB-1hJHbmTCH",
        "outputId": "eea24e3b-68a4-4cc2-eaca-058c838e1f87"
      },
      "execution_count": 13,
      "outputs": [
        {
          "output_type": "stream",
          "name": "stdout",
          "text": [
            "Valores de la fabrica 1\n",
            "La media es: 77.6906\n",
            "La mediana es: 81.275\n",
            "La moda es: 91.18\n"
          ]
        }
      ]
    },
    {
      "cell_type": "code",
      "source": [
        "media=mean(fabrica2)\n",
        "mediana = median(fabrica2)\n",
        "moda= mode(fabrica2)\n",
        "\n",
        "print (\"Valores de la fabrica 2\")\n",
        "print(\"La media es:\", media)\n",
        "print(\"La mediana es:\", mediana)\n",
        "print(\"La moda es:\", moda)"
      ],
      "metadata": {
        "colab": {
          "base_uri": "https://localhost:8080/"
        },
        "id": "B2s_FVudo2zg",
        "outputId": "d00dce1d-9c96-4ecc-fbde-e629622b90f6"
      },
      "execution_count": 14,
      "outputs": [
        {
          "output_type": "stream",
          "name": "stdout",
          "text": [
            "Valores de la fabrica 2\n",
            "La media es: 73.1022\n",
            "La mediana es: 72.07\n",
            "La moda es: 85.51\n"
          ]
        }
      ]
    },
    {
      "cell_type": "code",
      "source": [
        "#Generar 2 subplot de 1 renglon por 2 columnas para desplegar los 2 histogramas, una al lado de la otra\n",
        "fig,(ax1,ax2) = plt.subplots(nrows =1,ncols =2)"
      ],
      "metadata": {
        "colab": {
          "base_uri": "https://localhost:8080/",
          "height": 435
        },
        "id": "Ng3lQuKJpM17",
        "outputId": "e009faa7-3904-408c-9013-a8b43d8e187a"
      },
      "execution_count": 15,
      "outputs": [
        {
          "output_type": "display_data",
          "data": {
            "text/plain": [
              "<Figure size 640x480 with 2 Axes>"
            ],
            "image/png": "[encoded data removed]"
          },
          "metadata": {}
        }
      ]
    }
  ]
}